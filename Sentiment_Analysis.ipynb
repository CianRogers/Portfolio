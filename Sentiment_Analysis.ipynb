{
 "cells": [
  {
   "cell_type": "code",
   "execution_count": 1,
   "id": "fae183c5-ae1d-4a3b-9b21-d32b4960b9c9",
   "metadata": {},
   "outputs": [
    {
     "data": {
      "text/plain": [
       "<spacytextblob.spacytextblob.SpacyTextBlob at 0x280477da0>"
      ]
     },
     "execution_count": 1,
     "metadata": {},
     "output_type": "execute_result"
    }
   ],
   "source": [
    "# Import and load neccesary libraries \n",
    "import pandas as pd\n",
    "import spacy\n",
    "from spacytextblob.spacytextblob import SpacyTextBlob\n",
    "nlp = spacy.load('en_core_web_sm')\n",
    "nlp.add_pipe('spacytextblob')"
   ]
  },
  {
   "cell_type": "code",
   "execution_count": 2,
   "id": "24298be1-30d7-417d-8c97-0af7c8373b8f",
   "metadata": {},
   "outputs": [],
   "source": [
    "# Load in dataset using pandas\n",
    "df = pd.read_csv('Datafiniti_Amazon_Consumer_Reviews_of_Amazon_Products_May19.csv')"
   ]
  },
  {
   "cell_type": "code",
   "execution_count": 3,
   "id": "43999b4c-47bf-4319-ab9f-513db89497da",
   "metadata": {},
   "outputs": [
    {
     "data": {
      "text/plain": [
       "0    I order 3 of them and one of the item is bad q...\n",
       "1    Bulk is always the less expensive way to go fo...\n",
       "2    Well they are not Duracell but for the price i...\n",
       "3    Seem to work as well as name brand batteries a...\n",
       "4    These batteries are very long lasting the pric...\n",
       "Name: reviews.text, dtype: object"
      ]
     },
     "execution_count": 3,
     "metadata": {},
     "output_type": "execute_result"
    }
   ],
   "source": [
    "# Assign target column to variable \n",
    "reviews = df['reviews.text']\n",
    "reviews.head()"
   ]
  },
  {
   "cell_type": "code",
   "execution_count": 4,
   "id": "bc30b85e-0fea-4510-b94e-f9b4ec17a2f6",
   "metadata": {},
   "outputs": [
    {
     "name": "stdout",
     "output_type": "stream",
     "text": [
      "0        I order 3 of them and one of the item is bad q...\n",
      "1        Bulk is always the less expensive way to go fo...\n",
      "2        Well they are not Duracell but for the price i...\n",
      "3        Seem to work as well as name brand batteries a...\n",
      "4        These batteries are very long lasting the pric...\n",
      "                               ...                        \n",
      "28327    I got 2 of these for my 8 yr old twins. My 11 ...\n",
      "28328    I bought this for my niece for a Christmas gif...\n",
      "28329    Very nice for light internet browsing, keeping...\n",
      "28330    This Tablet does absolutely everything I want!...\n",
      "28331    At ninety dollars, the expectionations are low...\n",
      "Name: reviews.text, Length: 28332, dtype: object\n"
     ]
    }
   ],
   "source": [
    "# Remove NA from reviews.text column \n",
    "clean_reviews = df.dropna(subset=['reviews.text'])\n",
    "review_text = clean_reviews['reviews.text']\n",
    "print(review_text)"
   ]
  },
  {
   "cell_type": "code",
   "execution_count": 5,
   "id": "1d249cc5",
   "metadata": {},
   "outputs": [],
   "source": [
    "# Function to clean text within the column by converting to lower case, removing stop words and punctuation.\n",
    "def preprocess(text):\n",
    "    \n",
    "    doc = nlp(text.lower().strip())\n",
    "    processed = [token.lemma_.lower() for token in doc if not token.is_stop and not token.is_punct]\n",
    "    \n",
    "    return ' '.join(processed)\n"
   ]
  },
  {
   "cell_type": "code",
   "execution_count": 6,
   "id": "7eb5a6e8",
   "metadata": {},
   "outputs": [
    {
     "name": "stderr",
     "output_type": "stream",
     "text": [
      "/var/folders/3h/w4374r190j50p40fd50q660h0000gn/T/ipykernel_83085/528993175.py:1: SettingWithCopyWarning: \n",
      "A value is trying to be set on a copy of a slice from a DataFrame\n",
      "\n",
      "See the caveats in the documentation: https://pandas.pydata.org/pandas-docs/stable/user_guide/indexing.html#returning-a-view-versus-a-copy\n",
      "  review_text['processed.text'] = review_text.apply(preprocess)\n"
     ]
    }
   ],
   "source": [
    "# Apply processing function to reviews within the dataframe and create a new column containing these cleaned reviews\n",
    "review_text['processed.text'] = review_text.apply(preprocess)"
   ]
  },
  {
   "cell_type": "code",
   "execution_count": 7,
   "id": "032477b2",
   "metadata": {},
   "outputs": [
    {
     "name": "stdout",
     "output_type": "stream",
     "text": [
      "0        order 3 item bad quality miss backup spring pc...\n",
      "1                          bulk expensive way product like\n",
      "2                                     duracell price happy\n",
      "3                            work brand battery well price\n",
      "4                            battery long last price great\n",
      "                               ...                        \n",
      "28327    get 2 8 yr old twin 11 yr old well perfect way...\n",
      "28328         buy niece christmas gift.she 9 year old love\n",
      "28329    nice light internet browsing keep email view v...\n",
      "28330    tablet absolutely want watch tv show movie che...\n",
      "28331    ninety dollar expectionation low good table go...\n",
      "Name: reviews.text, Length: 28332, dtype: object\n"
     ]
    }
   ],
   "source": [
    "# Preview the cleaned reviews column \n",
    "print(review_text['processed.text'])"
   ]
  },
  {
   "cell_type": "code",
   "execution_count": 12,
   "id": "eed20e9f",
   "metadata": {},
   "outputs": [
    {
     "name": "stdout",
     "output_type": "stream",
     "text": [
      "Product Review sentiment analysis:\n",
      "Review: battery long last price great \n",
      "Sentiment based upon polarity is: Positive\n",
      "Sentiment values using sentiment attribute are: Sentiment(polarity=0.375, subjectivity=0.575)\n",
      "________________________________________________________________________________________________________________________\n",
      "Review: definitely love price quantity kid tthrough fast \n",
      "Sentiment based upon polarity is: Positive\n",
      "Sentiment values using sentiment attribute are: Sentiment(polarity=0.35, subjectivity=0.6)\n",
      "________________________________________________________________________________________________________________________\n",
      "Review: last long duracell \n",
      "Sentiment based upon polarity is: Negative\n",
      "Sentiment values using sentiment attribute are: Sentiment(polarity=-0.05, subjectivity=0.4)\n",
      "________________________________________________________________________________________________________________________\n",
      "Review: opinion near long duracel thing like lead candle crazy trail camera camera expose cold temp battery buy bulk north house amazon basic great thing like sheet beeding towel opinion battery life large package aaa aa size purchase lacking \n",
      "Sentiment based upon polarity is: Negative\n",
      "Sentiment values using sentiment attribute are: Sentiment(polarity=-0.0193877551020408, subjectivity=0.5719387755102041)\n",
      "________________________________________________________________________________________________________________________\n"
     ]
    }
   ],
   "source": [
    "# Function to perform sentiment analysis of the cleaned reviews using spacy's polarity function\n",
    "def predict_sentiment(review):\n",
    "    # Process the review text using the processing function\n",
    "    clean_review = preprocess(review)\n",
    "    # Analyze sentiment using spacy's TextBlob capabilities\n",
    "    doc = nlp(clean_review)\n",
    "    # Get polarity score\n",
    "    polarity = doc._.polarity\n",
    "    sent = doc._.blob.sentiment\n",
    "    # Classify sentiment based on polarity score\n",
    "    if polarity > 0:\n",
    "        return 'Positive'\n",
    "    elif polarity < 0:\n",
    "        return 'Negative'\n",
    "    else:\n",
    "        return 'Neutral'\n",
    "     \n",
    "# Function for sentiment analysis using spacy's sentiment attribute values\n",
    "def predict_sentiment_sent(review):\n",
    "    # Process the review text using the processing function\n",
    "    clean_review = preprocess(review)\n",
    "    # Analyze sentiment using spaCy's TextBlob capabilities\n",
    "    doc = nlp(clean_review)\n",
    "    # Get sentiment attribute values\n",
    "    sent = doc._.blob.sentiment\n",
    "    # return sentiment attribute values \n",
    "    return sent\n",
    "\n",
    "# Variables to select the index values for reviews within the cleaned column    \n",
    "index_1 = 4\n",
    "index_2 = 50\n",
    "index_3 = 77\n",
    "index_4 = 17   \n",
    "    \n",
    "    # Test the sentiment analysis function on some product reviews from the dataset\n",
    "sample_reviews = [review_text['processed.text'][index_1], review_text['processed.text'][index_2], \n",
    "                  review_text['processed.text'][index_3], review_text['processed.text'][index_4]\n",
    "                  ]\n",
    "    \n",
    "print(\"Product Review sentiment analysis:\")\n",
    "for review in sample_reviews:\n",
    "    s = predict_sentiment(review)\n",
    "    A = predict_sentiment_sent(review)\n",
    "    print(f\"Review: {review} \\nSentiment based upon polarity is: {s}\\nSentiment values using sentiment attribute are: {A}\\n________________________________________________________________________________________________________________________\")"
   ]
  },
  {
   "cell_type": "code",
   "execution_count": 14,
   "id": "637c3cf5",
   "metadata": {},
   "outputs": [
    {
     "name": "stdout",
     "output_type": "stream",
     "text": [
      "Review 0: order 3 item bad quality miss backup spring pc aluminum battery work\n",
      "Review 1: bulk expensive way product like\n",
      "The similarity between Review 0 and Review 1 is: 0.6573121598608317\n"
     ]
    },
    {
     "name": "stderr",
     "output_type": "stream",
     "text": [
      "/var/folders/3h/w4374r190j50p40fd50q660h0000gn/T/ipykernel_83085/1939743716.py:7: UserWarning: [W007] The model you're using has no word vectors loaded, so the result of the Doc.similarity method will be based on the tagger, parser and NER, which may not give useful similarity judgements. This may happen if you're using one of the small models, e.g. `en_core_web_sm`, which don't ship with word vectors and only use context-sensitive tensors. You can always add your own word vectors, or use one of the larger models instead if available.\n",
      "  similarity_score = doc1.similarity(doc2)\n"
     ]
    }
   ],
   "source": [
    "# Function that calculates similarity between two product reviews using spacy\n",
    "def calculate_similarity(review1, review2):\n",
    "    # Tokenize the reviews\n",
    "    doc1 = nlp(review1)\n",
    "    doc2 = nlp(review2)\n",
    "    # Calculate similarity using spacy's similarity function\n",
    "    similarity_score = doc1.similarity(doc2)\n",
    "    return similarity_score\n",
    "index1 = 0\n",
    "index2 = 1\n",
    "\n",
    "# Check if indices are within the bounds of the column\n",
    "if index1 < len(review_text) and index2 < len(review_text):\n",
    "    review1 = review_text['processed.text'][index1]\n",
    "    review2 = review_text['processed.text'][index2]\n",
    "\n",
    "    # clean the reviews using the preprocess function previously created\n",
    "    clean_review1 = preprocess(review1)\n",
    "    clean_review2 = preprocess(review2)\n",
    "\n",
    "    # Calculate similarity between the two reviews using the .similarity function\n",
    "    similarity_score = calculate_similarity(clean_review1, clean_review2)\n",
    "    \n",
    "    print(f'Review {index1}: {clean_review1}\\nReview {index2}: {clean_review2}')\n",
    "    \n",
    "    print(f\"The similarity between Review {index1} and Review {index2} is: {similarity_score}\")\n",
    "else:\n",
    "    print(\"Index out of bounds. Please select a number within the column length.\")"
   ]
  },
  {
   "cell_type": "code",
   "execution_count": null,
   "id": "5a573fd0",
   "metadata": {},
   "outputs": [],
   "source": []
  }
 ],
 "metadata": {
  "kernelspec": {
   "display_name": "Python 3 (ipykernel)",
   "language": "python",
   "name": "python3"
  },
  "language_info": {
   "codemirror_mode": {
    "name": "ipython",
    "version": 3
   },
   "file_extension": ".py",
   "mimetype": "text/x-python",
   "name": "python",
   "nbconvert_exporter": "python",
   "pygments_lexer": "ipython3",
   "version": "3.12.0"
  }
 },
 "nbformat": 4,
 "nbformat_minor": 5
}
